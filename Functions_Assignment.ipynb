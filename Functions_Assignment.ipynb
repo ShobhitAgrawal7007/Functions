{
  "nbformat": 4,
  "nbformat_minor": 0,
  "metadata": {
    "colab": {
      "provenance": []
    },
    "kernelspec": {
      "name": "python3",
      "display_name": "Python 3"
    },
    "language_info": {
      "name": "python"
    }
  },
  "cells": [
    {
      "cell_type": "markdown",
      "source": [
        "# Functions Assignment(Theory)"
      ],
      "metadata": {
        "id": "0N79hUwm5dwr"
      }
    },
    {
      "cell_type": "markdown",
      "source": [
        "1. What is the difference between a function and a method in Python?"
      ],
      "metadata": {
        "id": "I8XwFnY95oMi"
      }
    },
    {
      "cell_type": "markdown",
      "source": [
        "In Python, functions and methods are both blocks of reusable code, but they differ in how they are called and their association with objects.\n",
        "\n",
        "Function:\n",
        "1. A function is a standalone block of code that performs a specific task.\n",
        "2. It is defined using the def keyword followed by a function name, parameters (optional), and a colon.\n",
        "3. It is called directly by its name, passing any required arguments.\n",
        "4. It does not operate on a specific object or class instance.\n",
        "\n",
        "For Example:\n",
        "\n",
        "  def add(x, y):\n",
        "\n",
        "      return x + y\n",
        "\n",
        "  result = add(5, 3)\n",
        "\n",
        "  print(result)\n",
        " # Output: 8\n",
        "\n",
        "Method:\n",
        "1. A method is a function that is associated with an object of a class.\n",
        "2. It is defined within a class and is called using the object name followed by a dot and the method name.\n",
        "3. It implicitly receives the object instance as its first argument (conventionally named self).\n",
        "4. It can access and modify the object's data (attributes).\n",
        "\n",
        "For Example:\n",
        "\n",
        "class Dog:\n",
        "\n",
        "    def __init__(self, name, breed):\n",
        "        self.name = name\n",
        "        self.breed = breed\n",
        "\n",
        "    def bark(self):\n",
        "        print(\"Woof!\")\n",
        "\n",
        "    def describe(self):\n",
        "        print(f\"This is a {self.breed} named {self.name}\")\n",
        "\n",
        "my_dog = Dog(\"Buddy\", \"Golden Retriever\")\n",
        "\n",
        "my_dog.bark()\n",
        "     \n",
        "my_dog.describe()\n",
        "\n",
        "# Output: Woof!\n",
        "# Output: This is a Golden Retriever named Buddy"
      ],
      "metadata": {
        "id": "lu5ZZhZc5rDs"
      }
    },
    {
      "cell_type": "markdown",
      "source": [
        "2. Explain the concept of function arguments and parameters in Python."
      ],
      "metadata": {
        "id": "RtUej-x99H6y"
      }
    },
    {
      "cell_type": "markdown",
      "source": [
        "In Python, functions can accept inputs, which are specified using parameters in the function definition and are passed as arguments when the function is called.\n",
        "\n",
        "Parameters:\n",
        "1. Parameters are the variables listed inside the parentheses in the function definition. They act as placeholders for the values that will be passed to the function.\n",
        "2. They are like labels that specify what kind of data the function expects to receive.\n",
        "\n",
        "Arguments:\n",
        "1. Arguments are the actual values that are passed to the function when it is called.\n",
        "2. They provide the specific data that the function will work with.\n",
        "\n",
        "For Example:\n",
        "\n",
        "def add_numbers(num1, num2):       # (num1 and num2 are parameters)\n",
        "\n",
        "    result = num1 + num2\n",
        "    return result\n",
        "\n",
        "sum_result = add_numbers(5, 3)    # (5 and 3 are arguments)\n",
        "\n",
        "print(sum_result)  \n",
        "\n",
        "# Output: 8"
      ],
      "metadata": {
        "id": "euuu-3cw9Xnr"
      }
    },
    {
      "cell_type": "markdown",
      "source": [
        "3. What are the different ways to define and call a function in Python?\n",
        "\n",
        "The different ways to define and call a function in Python are:\n",
        "\n",
        "(A). Defining a Function\n",
        "\n",
        "1. Use the def keyword followed by the function name and parentheses ().\n",
        "2. Parameters can be placed inside the parentheses, separated by commas.\n",
        "3. A colon : ends the function definition line.\n",
        "4. The function body is indented.\n",
        "5. An optional return statement can return a value.\n",
        "\n",
        "For Example:\n",
        "\n",
        " def greet(name):\n",
        "\n",
        "       \"\"\"This function greets the person passed in as a parameter.\"\"\"\n",
        "       return f\"Hello, {name}!\"\n",
        "\n",
        "(B). Calling a Function\n",
        "\n",
        "1. Use the function's name followed by parentheses ().\n",
        "2. Pass arguments inside the parentheses if the function requires them.\n",
        "\n",
        "For Example:\n",
        "\n",
        "message = greet(\"Alice\")\n",
        "\n",
        "   print(message)  \n",
        "\n",
        "(C). Function with Default Arguments  \n",
        "\n",
        "1. Assign default values to parameters in the function definition.\n",
        "2. If an argument isn't provided during the function call, the default value is used.\n",
        "\n",
        "For Example:\n",
        "\n",
        "def power(base, exponent=2):\n",
        "\n",
        "       return base ** exponent\n",
        "\n",
        "   print(power(3))       \n",
        "   print(power(3, 3))  \n",
        "\n",
        "(D). Function with Keyword Arguments\n",
        "\n",
        "1. When calling a function, specify arguments using their parameter names.\n",
        "2. Useful for clarity, especially when a function has many parameters.  \n",
        "\n",
        "For Example:\n",
        "\n",
        "def describe_person(name, age, city):\n",
        "\n",
        "       print(f\"{name} is {age} years old and lives in {city}.\")\n",
        "\n",
        "   describe_person(name=\"Bob\", age=30, city=\"New York\")\n",
        "\n",
        "   describe_person(age=25, city=\"London\", name=\"Charlie\")\n",
        "\n",
        "(E). Function with Variable-length Arguments(args)\n",
        "\n",
        "1. Use *args to accept a variable number of positional arguments.\n",
        "2. Arguments are passed as a tuple.\n",
        "\n",
        "For Example:\n",
        "\n",
        " def sum_all(*numbers):\n",
        "\n",
        "       total = 0\n",
        "       for num in numbers:\n",
        "           total += num\n",
        "       return total\n",
        "\n",
        "   print(sum_all(1, 2, 3, 4))\n",
        "\n",
        "(F). Function with Variable-length Keyword Arguments(kwargs)  \n",
        "\n",
        " def print_info(**info):\n",
        "\n",
        "       for key, value in info.items():\n",
        "           print(f\"{key}: {value}\")\n",
        "\n",
        "   print_info(name=\"David\", age=40, profession=\"Engineer\")\n",
        "\n",
        "(G). Lambda Functions (Anonymous Functions)\n",
        "\n",
        "1. Define small, anonymous functions using the lambda keyword.\n",
        "2. Useful for short operations.\n",
        "\n",
        "For Example:\n",
        "\n",
        "square = lambda x: x * x\n",
        "\n",
        "   print(square(5))  \n"
      ],
      "metadata": {
        "id": "upmRTpQ7_Vqd"
      }
    }
  ]
}